{
 "cells": [
  {
   "cell_type": "code",
   "execution_count": 7,
   "id": "9a0b3740",
   "metadata": {},
   "outputs": [],
   "source": [
    "import numpy as np\n",
    "import os\n",
    "import re"
   ]
  },
  {
   "cell_type": "code",
   "execution_count": 84,
   "id": "01d15e38",
   "metadata": {},
   "outputs": [],
   "source": [
    "from code_dict import dc "
   ]
  },
  {
   "cell_type": "code",
   "execution_count": 3,
   "id": "a71b15d9",
   "metadata": {},
   "outputs": [],
   "source": [
    "\n",
    "f = open(\"/home/manvendra/post_doc_ahduni/sim/scalar_fields/source_mpi/potn.txt\",\"r\")"
   ]
  },
  {
   "cell_type": "code",
   "execution_count": 4,
   "id": "8f077f0e",
   "metadata": {},
   "outputs": [],
   "source": [
    "l = f.readline()"
   ]
  },
  {
   "cell_type": "code",
   "execution_count": 86,
   "id": "44e6ec30",
   "metadata": {},
   "outputs": [
    {
     "data": {
      "text/plain": [
       "dict"
      ]
     },
     "execution_count": 86,
     "metadata": {},
     "output_type": "execute_result"
    }
   ],
   "source": [
    "type(dc)"
   ]
  },
  {
   "cell_type": "code",
   "execution_count": 40,
   "id": "e7a1af16",
   "metadata": {},
   "outputs": [
    {
     "data": {
      "text/plain": [
       "'((a_t)^2*(3 - 6*ϵ*phi[ci]) + 2*((a^2*G*Pi*λ)/πG + ϵ*(lap_z)*_pot[ci] + ϵ*((lap_x) + (lap_y))*Blank[λ/(8*πG)][ci] + (2^(3 - alpha)*a^2*G*Pi*(-2*a^2*alpha + a[t]^2)*(-1 + 2*alpha*ϵ*phi[ci])*((a[t]^2*(f_t)[ci]^2)/a^2)^alpha)/(m*a[t]^2)))/(6*a*ϵ*(a_t))'"
      ]
     },
     "execution_count": 40,
     "metadata": {},
     "output_type": "execute_result"
    }
   ],
   "source": [
    "l"
   ]
  },
  {
   "cell_type": "code",
   "execution_count": 41,
   "id": "b6d87dda",
   "metadata": {},
   "outputs": [
    {
     "name": "stdout",
     "output_type": "stream",
     "text": [
      "r\\(lap(\\S)(\\S)\\) rlap\\1\\2\n"
     ]
    }
   ],
   "source": [
    "for i in d.keys():\n",
    "    \n",
    "    lm = re.sub(str(i),str(d[i]),l)\n",
    "    print(str('r'+i),str('r'+d[i]))"
   ]
  },
  {
   "cell_type": "code",
   "execution_count": 63,
   "id": "34c723f3",
   "metadata": {},
   "outputs": [
    {
     "data": {
      "text/plain": [
       "['((a[t]^2*(f_t)[ci]']"
      ]
     },
     "execution_count": 63,
     "metadata": {},
     "output_type": "execute_result"
    }
   ],
   "source": [
    "re.findall(r'\\(\\S+\\)\\[ci\\]',l)"
   ]
  },
  {
   "cell_type": "code",
   "execution_count": 74,
   "id": "e0a05089",
   "metadata": {},
   "outputs": [
    {
     "data": {
      "text/plain": [
       "'((a_t)^2*(3 - 6*ϵ*phi[ci]) + 2*((a^2*G*Pi*λ)/πG + ϵ*(lap_z)*_pot[ci] + ϵ*((lap_x) + (lap_y))*Blank[λ/(8*πG)][ci] + (2^(3 - alpha)*a^2*G*Pi*(-2*a^2*alpha + a[t]^2)*(-1 + 2*alpha*ϵ*phi[ci])*((a[t]^2*(f_t)^2)/a^2)^alpha)/(m*a[t]^2)))/(6*a*ϵ*(a_t))'"
      ]
     },
     "execution_count": 74,
     "metadata": {},
     "output_type": "execute_result"
    }
   ],
   "source": [
    "re.sub(,l)"
   ]
  },
  {
   "cell_type": "code",
   "execution_count": 28,
   "id": "5c9965f8",
   "metadata": {},
   "outputs": [
    {
     "ename": "KeyError",
     "evalue": "0",
     "output_type": "error",
     "traceback": [
      "\u001b[0;31m---------------------------------------------------------------------------\u001b[0m",
      "\u001b[0;31mKeyError\u001b[0m                                  Traceback (most recent call last)",
      "\u001b[0;32m/tmp/ipykernel_9345/2615282544.py\u001b[0m in \u001b[0;36m<module>\u001b[0;34m\u001b[0m\n\u001b[0;32m----> 1\u001b[0;31m \u001b[0md\u001b[0m\u001b[0;34m[\u001b[0m\u001b[0;36m0\u001b[0m\u001b[0;34m]\u001b[0m\u001b[0;34m.\u001b[0m\u001b[0mvalues\u001b[0m\u001b[0;34m(\u001b[0m\u001b[0;34m)\u001b[0m\u001b[0;34m\u001b[0m\u001b[0;34m\u001b[0m\u001b[0m\n\u001b[0m",
      "\u001b[0;31mKeyError\u001b[0m: 0"
     ]
    }
   ],
   "source": [
    "d[0].values()\n"
   ]
  },
  {
   "cell_type": "code",
   "execution_count": 76,
   "id": "cd3881d3",
   "metadata": {},
   "outputs": [],
   "source": [
    "d[\"n\"]=\"g\""
   ]
  },
  {
   "cell_type": "code",
   "execution_count": 77,
   "id": "387c0d86",
   "metadata": {},
   "outputs": [
    {
     "data": {
      "text/plain": [
       "{'\\\\(lap(\\\\S)(\\\\S)\\\\)': 'lap\\\\1\\\\2', 'n': 'g'}"
      ]
     },
     "execution_count": 77,
     "metadata": {},
     "output_type": "execute_result"
    }
   ],
   "source": [
    "d"
   ]
  },
  {
   "cell_type": "code",
   "execution_count": null,
   "id": "d5d08645",
   "metadata": {},
   "outputs": [],
   "source": []
  }
 ],
 "metadata": {
  "kernelspec": {
   "display_name": "Python 3 (ipykernel)",
   "language": "python",
   "name": "python3"
  },
  "language_info": {
   "codemirror_mode": {
    "name": "ipython",
    "version": 3
   },
   "file_extension": ".py",
   "mimetype": "text/x-python",
   "name": "python",
   "nbconvert_exporter": "python",
   "pygments_lexer": "ipython3",
   "version": "3.7.3"
  }
 },
 "nbformat": 4,
 "nbformat_minor": 5
}
