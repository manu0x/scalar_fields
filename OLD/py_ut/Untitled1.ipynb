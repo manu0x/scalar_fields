{
 "cells": [
  {
   "cell_type": "code",
   "execution_count": 1,
   "id": "26192547",
   "metadata": {},
   "outputs": [],
   "source": [
    "import numpy as np\n",
    "import matplotlib.pyplot as plt"
   ]
  },
  {
   "cell_type": "code",
   "execution_count": 2,
   "id": "e38e0539",
   "metadata": {},
   "outputs": [
    {
     "name": "stdout",
     "output_type": "stream",
     "text": [
      "stat_1\n",
      "stat_2\n",
      "stat_3\n",
      "stat_4\n",
      "stat_5\n",
      "stat_6\n",
      "stat_7\n",
      "stat_8\n",
      "stat_9\n",
      "stat_10\n",
      "stat_11\n",
      "stat_12\n",
      "stat_13\n",
      "stat_14\n",
      "stat_15\n",
      "stat_16\n",
      "stat_17\n",
      "stat_18\n",
      "stat_19\n",
      "stat_20\n",
      "stat_21\n",
      "stat_22\n",
      "stat_23\n",
      "stat_24\n",
      "stat_25\n",
      "stat_26\n",
      "stat_27\n",
      "stat_28\n",
      "stat_29\n",
      "stat_30\n",
      "stat_31\n",
      "stat_32\n",
      "stat_33\n",
      "stat_34\n",
      "stat_35\n",
      "stat_36\n",
      "stat_37\n",
      "stat_38\n",
      "stat_39\n",
      "stat_40\n",
      "stat_41\n",
      "stat_42\n",
      "stat_43\n",
      "stat_44\n",
      "stat_45\n",
      "stat_46\n",
      "stat_47\n",
      "stat_48\n",
      "stat_49\n",
      "stat_50\n",
      "stat_51\n",
      "stat_52\n",
      "stat_53\n",
      "stat_54\n",
      "stat_55\n",
      "stat_56\n",
      "stat_57\n",
      "stat_58\n",
      "stat_59\n",
      "stat_60\n",
      "stat_61\n",
      "stat_62\n",
      "stat_63\n",
      "stat_64\n",
      "stat_65\n",
      "stat_66\n",
      "stat_67\n",
      "stat_68\n",
      "stat_69\n",
      "stat_70\n",
      "stat_71\n",
      "stat_72\n",
      "stat_73\n",
      "stat_74\n",
      "stat_75\n",
      "stat_76\n",
      "stat_77\n",
      "stat_78\n",
      "stat_79\n",
      "stat_80\n",
      "stat_81\n",
      "stat_82\n",
      "stat_83\n",
      "stat_84\n",
      "stat_85\n",
      "stat_86\n",
      "stat_87\n",
      "stat_88\n",
      "stat_89\n",
      "stat_90\n",
      "stat_91\n",
      "stat_92\n",
      "stat_93\n",
      "stat_94\n",
      "stat_95\n",
      "stat_96\n",
      "stat_97\n",
      "stat_98\n",
      "stat_99\n"
     ]
    },
    {
     "data": {
      "text/plain": [
       "(2097152, 5)"
      ]
     },
     "execution_count": 2,
     "metadata": {},
     "output_type": "execute_result"
    }
   ],
   "source": [
    "d = np.genfromtxt(\"stat_0\",delimiter=\"\\t\")\n",
    "for i in range(1,100):\n",
    "    fpname = \"stat_\"+str(i)\n",
    "    cdata = np.genfromtxt(fpname,delimiter=\"\\t\")\n",
    "    d = (i*d+cdata)/(i+1)\n",
    "    \n",
    "    print(fpname)\n",
    "    \n",
    "\n",
    "d.shape\n"
   ]
  },
  {
   "cell_type": "code",
   "execution_count": 3,
   "id": "0e434c48",
   "metadata": {},
   "outputs": [],
   "source": [
    "k = np.sqrt(d[:,0])\n",
    "pwc = d[:,3]*2097152.0\n",
    "c = np.genfromtxt(\"stat_0\",delimiter=\"\\t\")\n",
    "c = np.sqrt(c[:,0])"
   ]
  },
  {
   "cell_type": "code",
   "execution_count": 4,
   "id": "3743c508",
   "metadata": {},
   "outputs": [],
   "source": [
    "pw = d[:,4]"
   ]
  },
  {
   "cell_type": "code",
   "execution_count": 17,
   "id": "cff6ef31",
   "metadata": {},
   "outputs": [
    {
     "data": {
      "text/plain": [
       "[<matplotlib.lines.Line2D at 0x7fa702b87240>]"
      ]
     },
     "execution_count": 17,
     "metadata": {},
     "output_type": "execute_result"
    },
    {
     "data": {
      "image/png": "[encoded data removed]",
      "text/plain": [
       "<Figure size 432x288 with 1 Axes>"
      ]
     },
     "metadata": {
      "needs_background": "light"
     },
     "output_type": "display_data"
    }
   ],
   "source": [
    "plt.yscale('log')\n",
    "plt.xscale('log')\n",
    "#plt.plot(k,pw)\n",
    "#plt.plot(k,pwc,\"b.\")\n",
    "plt.plot(k,pw,\"r-.\")"
   ]
  },
  {
   "cell_type": "code",
   "execution_count": 11,
   "id": "2ef5f073",
   "metadata": {},
   "outputs": [
    {
     "data": {
      "text/plain": [
       "(2097152,)"
      ]
     },
     "execution_count": 11,
     "metadata": {},
     "output_type": "execute_result"
    }
   ],
   "source": [
    "pwc.shape"
   ]
  },
  {
   "cell_type": "code",
   "execution_count": 16,
   "id": "2f3c044c",
   "metadata": {},
   "outputs": [
    {
     "data": {
      "text/plain": [
       "[<matplotlib.lines.Line2D at 0x7fa7030e0e10>]"
      ]
     },
     "execution_count": 16,
     "metadata": {},
     "output_type": "execute_result"
    },
    {
     "data": {
      "image/png": "[encoded data removed]",
      "text/plain": [
       "<Figure size 432x288 with 1 Axes>"
      ]
     },
     "metadata": {
      "needs_background": "light"
     },
     "output_type": "display_data"
    }
   ],
   "source": [
    "plt.yscale('log')\n",
    "plt.xscale('log')\n",
    "plt.plot(pwc,\"b-\")"
   ]
  },
  {
   "cell_type": "code",
   "execution_count": null,
   "id": "380fa291",
   "metadata": {},
   "outputs": [],
   "source": []
  }
 ],
 "metadata": {
  "kernelspec": {
   "display_name": "Python 3 (ipykernel)",
   "language": "python",
   "name": "python3"
  },
  "language_info": {
   "codemirror_mode": {
    "name": "ipython",
    "version": 3
   },
   "file_extension": ".py",
   "mimetype": "text/x-python",
   "name": "python",
   "nbconvert_exporter": "python",
   "pygments_lexer": "ipython3",
   "version": "3.7.3"
  }
 },
 "nbformat": 4,
 "nbformat_minor": 5
}
