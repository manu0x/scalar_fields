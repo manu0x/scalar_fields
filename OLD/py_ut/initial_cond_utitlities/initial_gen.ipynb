{
 "cells": [
  {
   "cell_type": "code",
   "execution_count": 1,
   "id": "365c42ec",
   "metadata": {},
   "outputs": [
    {
     "name": "stderr",
     "output_type": "stream",
     "text": [
      "2022-05-27 16:37:55.160014: W tensorflow/stream_executor/platform/default/dso_loader.cc:64] Could not load dynamic library 'libcudart.so.11.0'; dlerror: libcudart.so.11.0: cannot open shared object file: No such file or directory\n",
      "2022-05-27 16:37:55.160037: I tensorflow/stream_executor/cuda/cudart_stub.cc:29] Ignore above cudart dlerror if you do not have a GPU set up on your machine.\n"
     ]
    }
   ],
   "source": [
    "import tensorflow as tf\n",
    "from tensorflow import keras\n",
    "import matplotlib.pyplot as plt\n",
    "import numpy as np\n",
    "import h5py\n",
    "pie = np.pi"
   ]
  },
  {
   "cell_type": "code",
   "execution_count": 2,
   "id": "0d10f8e3",
   "metadata": {},
   "outputs": [
    {
     "name": "stdout",
     "output_type": "stream",
     "text": [
      "9921 0.07627927303367146\n"
     ]
    },
    {
     "data": {
      "text/plain": [
       "30.673715684320292"
      ]
     },
     "execution_count": 2,
     "metadata": {},
     "output_type": "execute_result"
    }
   ],
   "source": [
    "hbar_box = 6.582\n",
    "c_box = 2.99\n",
    "pc_box = 3.0857\n",
    "h = 0.7\n",
    "alpha = 0.175\n",
    "hbar_by_m_val = (hbar_box*h*c_box*c_box/(alpha*pc_box))*0.001\n",
    "H0_val = 100.0\n",
    "da_val = 0.00001\n",
    "a0_val = 1.0\n",
    "ai_val = 0.0078125\n",
    "a_print = (int)((a0_val-ai_val)/(10.0*da_val))\n",
    "print(a_print,hbar_by_m_val)\n",
    "hbar_by_m_val*pie*128"
   ]
  },
  {
   "cell_type": "code",
   "execution_count": 3,
   "id": "c7e5ef94",
   "metadata": {},
   "outputs": [],
   "source": [
    "\n",
    "def pcube(p):\n",
    "    pivot = np.floor(p/dx).astype(int)\n",
    "    a001 = np.array([0,0,1])\n",
    "    a010 = np.array([0,1,0])\n",
    "    a100 = np.array([1,0,0])\n",
    "    \n",
    "    a011 = np.array([0,1,1])\n",
    "    a110 = np.array([1,1,0])\n",
    "    a101 = np.array([1,0,1])\n",
    "    \n",
    "    a111 = np.array([1,1,1])\n",
    "    \n",
    "    p001 = pivot+a001\n",
    "    p010 = pivot+a010\n",
    "    p100 = pivot+a100\n",
    "    p011 = pivot+a011\n",
    "    p110 = pivot+a110\n",
    "    p101 = pivot+a101\n",
    "    \n",
    "    p111 = pivot+a111\n",
    "    \n",
    "    part_cube =np.stack([pivot,p100,p010,p001,p110,p011,p101,p111],axis=0)\n",
    "\n",
    "    return part_cube\n",
    "\n",
    "\n",
    "def pic_dc_construct(p,v,n,dx):\n",
    "    p_cube_ind = pcube(p)\n",
    "    p_cube = p_cube_ind*dx\n",
    "    d = np.prod((1.0-np.absolute(p-p_cube)/dx),axis=2)\n",
    "    \n",
    "    n_part = np.max(p_cube.shape)\n",
    "    print(n_part)\n",
    "    \n",
    "    dc=np.zeros((n,n,n))\n",
    "    vel=np.zeros((n,n,n,3))\n",
    "    \n",
    "    for i in range(n_part):\n",
    "        for j in range(8):\n",
    "            m = (128+(p_cube_ind[j,i,0]))%128\n",
    "            n = (128+(p_cube_ind[j,i,1]))%128\n",
    "            k = (128+(p_cube_ind[j,i,2]))%128\n",
    "            dc[m,n,k] = dc[m,n,k] + d[j,i]\n",
    "            vel[m,n,k] = vel[m,n,k]+d[j,i]*v[i]\n",
    "            \n",
    "    dc = dc-1.0\n",
    "            \n",
    "    return dc,vel\n",
    "\n",
    "\n",
    "\n",
    "def make_k_grid(L,n):\n",
    "    dk = 1.0/(L)\n",
    "    k1 = np.arange(0,n/2+1)\n",
    "    k2 = np.arange(-n/2+1,0,1)\n",
    "    k = 2.0*np.pi*dk*np.concatenate((k1,k2))\n",
    "    k_grid = np.meshgrid(k,k,k,indexing=\"ij\")\n",
    "    return np.array(k_grid),k\n",
    "\n",
    "def make_x_grid(L,n):\n",
    "    dx = 1.0/(L)\n",
    "    x = np.arange(0,n)\n",
    "    x = dx*x\n",
    "    x_grid = np.meshgrid(x,x,x,indexing=\"ij\")\n",
    "    return np.array(x_grid)"
   ]
  },
  {
   "cell_type": "code",
   "execution_count": 4,
   "id": "0624b9e6",
   "metadata": {},
   "outputs": [
    {
     "name": "stdout",
     "output_type": "stream",
     "text": [
      "2097152\n",
      "(128, 128, 128) (128, 128, 128, 3)\n"
     ]
    }
   ],
   "source": [
    "n= int(sys.argv[1])\n",
    "L=1.0\n",
    "dx = L/(float(n))\n",
    "name  = \"snapshot_\"str(n)+\"_ics_000.hdf5\"\n",
    "pdata = h5py.File(name)\n",
    "par_p = np.array(pdata['PartType1']['Coordinates'])\n",
    "par_v = np.array(pdata['PartType1']['Velocities'])\n",
    "\n",
    "\n",
    "dc,v = pic_dc_construct(par_p,par_v,n,dx)\n",
    "\n",
    "print(dc.shape,v.shape)"
   ]
  },
  {
   "cell_type": "code",
   "execution_count": 5,
   "id": "cab19cc0",
   "metadata": {},
   "outputs": [],
   "source": [
    "f = h5py.File(\"dc.hdf5\", \"w\")\n",
    "wdset = f.create_dataset(\"dc\", dc.shape, dtype='d',data=dc)\n",
    "vdset = f.create_dataset(\"v\", v.shape, dtype='d',data=v)\n",
    "h5py.File.close(f)"
   ]
  },
  {
   "cell_type": "code",
   "execution_count": 6,
   "id": "adaf3bb8",
   "metadata": {},
   "outputs": [
    {
     "name": "stdout",
     "output_type": "stream",
     "text": [
      "(128, 128, 128)\n"
     ]
    }
   ],
   "source": [
    "f = h5py.File(\"dc.hdf5\", \"r\")\n",
    "print(f[\"/dc\"].shape)\n",
    "h5py.File.close(f)"
   ]
  },
  {
   "cell_type": "code",
   "execution_count": 7,
   "id": "a8e91004",
   "metadata": {},
   "outputs": [
    {
     "name": "stdout",
     "output_type": "stream",
     "text": [
      "65\n"
     ]
    },
    {
     "name": "stderr",
     "output_type": "stream",
     "text": [
      "2022-05-27 16:39:35.204208: W tensorflow/stream_executor/platform/default/dso_loader.cc:64] Could not load dynamic library 'libcuda.so.1'; dlerror: libcuda.so.1: cannot open shared object file: No such file or directory\n",
      "2022-05-27 16:39:35.219189: W tensorflow/stream_executor/cuda/cuda_driver.cc:326] failed call to cuInit: UNKNOWN ERROR (303)\n",
      "2022-05-27 16:39:35.219275: I tensorflow/stream_executor/cuda/cuda_diagnostics.cc:156] kernel driver does not appear to be running on this host (zer0): /proc/driver/nvidia/version does not exist\n",
      "2022-05-27 16:39:35.230453: I tensorflow/core/platform/cpu_feature_guard.cc:142] This TensorFlow binary is optimized with oneAPI Deep Neural Network Library (oneDNN) to use the following CPU instructions in performance-critical operations:  AVX2 FMA\n",
      "To enable them in other operations, rebuild TensorFlow with the appropriate compiler flags.\n"
     ]
    },
    {
     "name": "stdout",
     "output_type": "stream",
     "text": [
      "(3, 128, 128, 128) (3, 128, 128, 65) (3, 128, 128, 128) (128, 128, 65)\n"
     ]
    }
   ],
   "source": [
    "\n",
    "\n",
    "nh = (int)(n/2+1)\n",
    "print(nh)\n",
    "\n",
    "k_grid,kk = make_k_grid(L,n)\n",
    "\n",
    "k_grid_den = 1.0*k_grid\n",
    "k_grid_den[:,0,0,0] = 1.0\n",
    "\n",
    "k_grid_half = k_grid[:,:,:,:nh]\n",
    "k_grid_half_den = k_grid_den[:,:,:,:nh]\n",
    "\n",
    "\n",
    "\n",
    "k_grid_sqr = np.sum(np.square(k_grid),axis=0)\n",
    "k_grid_sqr_c = tf.complex(k_grid_sqr,tf.zeros_like(k_grid_sqr))\n",
    "k_grid_sqr_den = np.sum(np.square(k_grid_den),axis=0)\n",
    "k_grid_sqr_half_den = np.sum(np.square(k_grid_half_den),axis=0)\n",
    "\n",
    "k_grid_sqr_den[0,0,0] = 1.0;\n",
    "k_grid_sqr_half_den[0,0,0] = 1.0;\n",
    "\n",
    "k_grid_sqr_half_den_c = tf.complex(k_grid_sqr_half_den,tf.zeros_like(k_grid_sqr_half_den))\n",
    "k_grid_sqr_den_c = tf.complex(k_grid_sqr_den,tf.zeros_like(k_grid_sqr_den))\n",
    "\n",
    "\n",
    "x_grid = make_x_grid(L,n)\n",
    "\n",
    "k_grid_sqr_half = tf.reduce_sum(tf.square(k_grid_half),axis=0)\n",
    "k_grid_sqr_half_c = tf.complex(k_grid_sqr_half,tf.zeros_like(k_grid_sqr_half))\n",
    "\n",
    "\n",
    "h_filt = np.ones(shape=(n,n,nh))\n",
    "h_filt_z = np.zeros_like(h_filt)\n",
    "h_filt[0,0,0]=0.0\n",
    "h_filt_c = tf.complex(h_filt,h_filt_z)\n",
    "\n",
    "filt = np.ones(shape=(n,n,n))\n",
    "filt_z = np.zeros_like(filt)\n",
    "filt[0,0,0]=0.0\n",
    "filt_c = tf.complex(filt,filt_z)\n",
    "\n",
    "\n",
    "print(k_grid.shape,k_grid_half.shape,x_grid.shape,k_grid_sqr_half.shape)"
   ]
  },
  {
   "cell_type": "code",
   "execution_count": 8,
   "id": "362f6ad3",
   "metadata": {},
   "outputs": [
    {
     "name": "stdout",
     "output_type": "stream",
     "text": [
      "(128, 128, 128) (3, 128, 128, 128)\n"
     ]
    }
   ],
   "source": [
    "f = h5py.File(\"dc.hdf5\", \"r\")\n",
    "dc = tf.constant(f[\"/dc\"],dtype=tf.float64)\n",
    "#dc = tf.zeros_like(dc)\n",
    "v = tf.constant(f[\"/v\"],dtype=tf.float64)\n",
    "v = tf.transpose(v,perm=[3,0,1,2])\n",
    "print(dc.shape,v.shape)\n",
    "h5py.File.close(f)\n"
   ]
  },
  {
   "cell_type": "code",
   "execution_count": 9,
   "id": "b8ca79dd",
   "metadata": {},
   "outputs": [],
   "source": [
    "def cal_potn_from_psi(psi,t):\n",
    "    psi2_b = tf.square(psi_back(t))\n",
    "    pois_arg = tf.signal.rfft3d(4.0*Pie*G*m*(abs2_psi-psi2_b))\n",
    "    potn = tf.signal.irfft3d(-pois_arg/tf.square(k_grid_cmplx))\n",
    "    \n",
    "    return potn\n",
    "\n",
    "    \n",
    "def cal_psi_from_dc_v(dc,v,m,ai,k_grid_half,k_grid_sqr_half_den_c,h_filt_c,hbar_by_m_c,H0,omega_dm0=0.3,a0=1.0):\n",
    "    rho_b = 3.0*H0*H0*omega_dm0*tf.pow(a0/ai,3.0) \n",
    "    psi_amp = tf.math.sqrt(rho_b*(1.0+dc))\n",
    "   \n",
    "    v_ft = tf.signal.rfft3d(v)\n",
    "    \n",
    "    grad_v_r = tf.reduce_sum(-k_grid_half*tf.math.imag(v_ft),axis=0)\n",
    "    grad_v_c = tf.reduce_sum(k_grid_half*tf.math.real(v_ft),axis=0)\n",
    "    grad_v = tf.complex(grad_v_r,grad_v_c)\n",
    "    print(grad_v.dtype,k_grid_sqr_half_den_c.dtype,hbar_by_m_c)\n",
    "    alpha_rhs = -grad_v/(hbar_by_m_c*k_grid_sqr_half_den_c)\n",
    "    \n",
    "    alpha_rhs = h_filt_c*alpha_rhs\n",
    "    print(alpha_rhs.shape,h_filt_c.shape,alpha_rhs[0,0,0])\n",
    "    \n",
    "    alpha = tf.signal.irfft3d(alpha_rhs)\n",
    "    \n",
    "    \n",
    "    \n",
    "    psi = tf.complex(psi_amp*tf.math.cos(alpha),psi_amp*tf.math.sin(alpha))\n",
    "    \n",
    "    \n",
    "    \n",
    "    return psi,alpha"
   ]
  },
  {
   "cell_type": "code",
   "execution_count": 10,
   "id": "5e1598a8",
   "metadata": {},
   "outputs": [
    {
     "data": {
      "text/plain": [
       "0.0078125"
      ]
     },
     "execution_count": 10,
     "metadata": {},
     "output_type": "execute_result"
    }
   ],
   "source": [
    "\n",
    "\n",
    "hbar_by_m = tf.constant(hbar_by_m_val,dtype=tf.float64)\n",
    "hbar_by_m_c = tf.complex(hbar_by_m,tf.zeros_like(hbar_by_m))\n",
    "\n",
    "da = tf.constant(da_val,dtype=tf.float64)\n",
    "\n",
    "a0 =  tf.constant(a0_val,dtype=tf.float64)\n",
    "ai =  tf.constant(ai_val,dtype=tf.float64)\n",
    "m=   tf.constant(1.0,dtype=tf.float64)\n",
    "omega_dm0 =  tf.constant(0.3,dtype=tf.float64)\n",
    "t_ini =  tf.constant(0.001,dtype=tf.float64)\n",
    "H0 =  tf.constant(100.000,dtype=tf.float64)\n",
    "ai.numpy()\n",
    "\n"
   ]
  },
  {
   "cell_type": "code",
   "execution_count": null,
   "id": "bd13c01b",
   "metadata": {},
   "outputs": [],
   "source": []
  },
  {
   "cell_type": "code",
   "execution_count": 11,
   "id": "dd203e47",
   "metadata": {},
   "outputs": [
    {
     "name": "stdout",
     "output_type": "stream",
     "text": [
      "<dtype: 'complex128'> <dtype: 'complex128'> tf.Tensor((0.07627927303367146+0j), shape=(), dtype=complex128)\n",
      "(128, 128, 65) (128, 128, 65) tf.Tensor(0j, shape=(), dtype=complex128)\n"
     ]
    }
   ],
   "source": [
    "psi_ini,alpha_ini = cal_psi_from_dc_v(dc,v,m,ai,k_grid_half,k_grid_sqr_half_den_c,h_filt_c,hbar_by_m_c,H0,omega_dm0,a0)\n",
    "\n",
    "\n",
    "psi_ini = psi_ini*tf.complex(tf.pow(ai,1.5),tf.zeros_like(ai))\n",
    "\n"
   ]
  },
  {
   "cell_type": "code",
   "execution_count": 12,
   "id": "a0a59097",
   "metadata": {},
   "outputs": [
    {
     "name": "stdout",
     "output_type": "stream",
     "text": [
      "(2097152, 1) (2097152, 1)\n"
     ]
    }
   ],
   "source": [
    "dc = np.array(dc).flatten()\n",
    "alpha_ini = np.array(alpha_ini).flatten()\n",
    "\n",
    "dc = np.reshape(dc,(dc.shape[0],1))\n",
    "alpha_ini = np.reshape(alpha_ini,(alpha_ini.shape[0],1))\n",
    "\n",
    "print(dc.shape,alpha_ini.shape)\n",
    "with h5py.File(\"dc_theta.hdf5\", \"w\") as ff:\n",
    "    dsetdc = ff.create_dataset(\"dc\", dc.shape,data=dc)\n",
    "    dset2 = ff.create_dataset(\"theta\", alpha_ini.shape,data=alpha_ini)\n"
   ]
  },
  {
   "cell_type": "code",
   "execution_count": 13,
   "id": "3352842b",
   "metadata": {},
   "outputs": [],
   "source": [
    "fl = h5py.File(\"dc_theta.hdf5\",\"r\")"
   ]
  },
  {
   "cell_type": "code",
   "execution_count": 14,
   "id": "295a9712",
   "metadata": {},
   "outputs": [
    {
     "data": {
      "text/plain": [
       "<KeysViewHDF5 ['dc', 'theta']>"
      ]
     },
     "execution_count": 14,
     "metadata": {},
     "output_type": "execute_result"
    }
   ],
   "source": [
    "fl.keys()"
   ]
  },
  {
   "cell_type": "code",
   "execution_count": 15,
   "id": "409a144f",
   "metadata": {},
   "outputs": [],
   "source": [
    "theta = np.array(fl['theta'])\n",
    "ldc =  np.array(fl['dc'])"
   ]
  },
  {
   "cell_type": "code",
   "execution_count": 16,
   "id": "6ac76f27",
   "metadata": {},
   "outputs": [
    {
     "name": "stdout",
     "output_type": "stream",
     "text": [
      "(2097152, 1) (2097152, 1)\n"
     ]
    }
   ],
   "source": [
    "print(theta.shape,ldc.shape)"
   ]
  },
  {
   "cell_type": "code",
   "execution_count": 17,
   "id": "122ef0aa",
   "metadata": {},
   "outputs": [
    {
     "data": {
      "text/plain": [
       "[<matplotlib.lines.Line2D at 0x7f63c3b8df60>]"
      ]
     },
     "execution_count": 17,
     "metadata": {},
     "output_type": "execute_result"
    },
    {
     "data": {
      "image/png": "[encoded data removed]",
      "text/plain": [
       "<Figure size 432x288 with 1 Axes>"
      ]
     },
     "metadata": {
      "needs_background": "light"
     },
     "output_type": "display_data"
    }
   ],
   "source": [
    "plt.plot(theta[:100],\"b*\")\n",
    "plt.plot(ldc[:100],\"r*\")"
   ]
  },
  {
   "cell_type": "code",
   "execution_count": 18,
   "id": "88af7a4d",
   "metadata": {},
   "outputs": [],
   "source": [
    "vnp = np.array(v)"
   ]
  },
  {
   "cell_type": "code",
   "execution_count": 19,
   "id": "99911555",
   "metadata": {},
   "outputs": [
    {
     "data": {
      "text/plain": [
       "-86.40823980420828"
      ]
     },
     "execution_count": 19,
     "metadata": {},
     "output_type": "execute_result"
    }
   ],
   "source": [
    "vnp.min()"
   ]
  },
  {
   "cell_type": "code",
   "execution_count": 20,
   "id": "66aa9cf5",
   "metadata": {},
   "outputs": [
    {
     "data": {
      "text/plain": [
       "(2097152, 3)"
      ]
     },
     "execution_count": 20,
     "metadata": {},
     "output_type": "execute_result"
    }
   ],
   "source": [
    "par_v.shape"
   ]
  },
  {
   "cell_type": "code",
   "execution_count": null,
   "id": "9ad6f721",
   "metadata": {},
   "outputs": [],
   "source": []
  },
  {
   "cell_type": "code",
   "execution_count": null,
   "id": "a58f9fb1",
   "metadata": {},
   "outputs": [],
   "source": []
  }
 ],
 "metadata": {
  "kernelspec": {
   "display_name": "Python 3 (ipykernel)",
   "language": "python",
   "name": "python3"
  },
  "language_info": {
   "codemirror_mode": {
    "name": "ipython",
    "version": 3
   },
   "file_extension": ".py",
   "mimetype": "text/x-python",
   "name": "python",
   "nbconvert_exporter": "python",
   "pygments_lexer": "ipython3",
   "version": "3.7.3"
  }
 },
 "nbformat": 4,
 "nbformat_minor": 5
}
