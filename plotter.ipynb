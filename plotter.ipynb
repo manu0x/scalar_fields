{
 "cells": [
  {
   "cell_type": "code",
   "execution_count": 1,
   "id": "2edebd7e",
   "metadata": {},
   "outputs": [],
   "source": [
    "import numpy as np\n",
    "import matplotlib.pyplot as plt"
   ]
  },
  {
   "cell_type": "code",
   "execution_count": 2,
   "id": "8e39124e",
   "metadata": {},
   "outputs": [],
   "source": [
    "def read_z(i=0,n=262144):\n",
    "    sh = i*n;\n",
    "    sf = (99-i)*n;\n",
    "    \n",
    "    d = np.genfromtxt(\"psi.txt\",delimiter=\"\\t\",skip_footer=sf,skip_header=sh)\n",
    "    \n",
    "    return d\n",
    "    "
   ]
  },
  {
   "cell_type": "code",
   "execution_count": null,
   "id": "8bb5743b",
   "metadata": {},
   "outputs": [],
   "source": [
    "d = read_z(0)"
   ]
  },
  {
   "cell_type": "code",
   "execution_count": null,
   "id": "61462272",
   "metadata": {},
   "outputs": [],
   "source": []
  }
 ],
 "metadata": {
  "kernelspec": {
   "display_name": "Python 3 (ipykernel)",
   "language": "python",
   "name": "python3"
  },
  "language_info": {
   "codemirror_mode": {
    "name": "ipython",
    "version": 3
   },
   "file_extension": ".py",
   "mimetype": "text/x-python",
   "name": "python",
   "nbconvert_exporter": "python",
   "pygments_lexer": "ipython3",
   "version": "3.7.3"
  }
 },
 "nbformat": 4,
 "nbformat_minor": 5
}
