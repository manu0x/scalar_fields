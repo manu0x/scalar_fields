{
 "cells": [
  {
   "cell_type": "code",
   "execution_count": 1,
   "id": "6371c000",
   "metadata": {},
   "outputs": [],
   "source": [
    "import matplotlib.pyplot as plt\n",
    "import numpy as np\n"
   ]
  },
  {
   "cell_type": "code",
   "execution_count": 2,
   "id": "9bfb39fc",
   "metadata": {},
   "outputs": [],
   "source": [
    "x = np.genfromtxt(\"norm.txt\")"
   ]
  },
  {
   "cell_type": "code",
   "execution_count": 8,
   "id": "3501fac3",
   "metadata": {},
   "outputs": [],
   "source": [
    "x.shape\n",
    "y=x/20000.0"
   ]
  },
  {
   "cell_type": "code",
   "execution_count": 10,
   "id": "45d548ef",
   "metadata": {},
   "outputs": [
    {
     "data": {
      "text/plain": [
       "(array([0.00058437, 0.00077916, 0.00194789, 0.0035062 , 0.01032381,\n",
       "        0.02376425, 0.03447764, 0.05785231, 0.08901854, 0.13537831,\n",
       "        0.18894526, 0.23705813, 0.30718214, 0.35685332, 0.38646123,\n",
       "        0.4045766 , 0.38276024, 0.33464738, 0.27698986, 0.22946136,\n",
       "        0.16654453, 0.1090818 , 0.06798134, 0.0422692 , 0.02240073,\n",
       "        0.01460917, 0.00584367, 0.00272705, 0.00058437, 0.00116873]),\n",
       " array([-3.923732 , -3.6670439, -3.4103558, -3.1536677, -2.8969796,\n",
       "        -2.6402915, -2.3836034, -2.1269153, -1.8702272, -1.6135391,\n",
       "        -1.356851 , -1.1001629, -0.8434748, -0.5867867, -0.3300986,\n",
       "        -0.0734105,  0.1832776,  0.4399657,  0.6966538,  0.9533419,\n",
       "         1.21003  ,  1.4667181,  1.7234062,  1.9800943,  2.2367824,\n",
       "         2.4934705,  2.7501586,  3.0068467,  3.2635348,  3.5202229,\n",
       "         3.776911 ]),\n",
       " <BarContainer object of 30 artists>)"
      ]
     },
     "execution_count": 10,
     "metadata": {},
     "output_type": "execute_result"
    },
    {
     "data": {
      "image/png": "[encoded data removed]",
      "text/plain": [
       "<Figure size 432x288 with 1 Axes>"
      ]
     },
     "metadata": {
      "needs_background": "light"
     },
     "output_type": "display_data"
    }
   ],
   "source": [
    "plt.hist(x,bins=30,density=True)"
   ]
  },
  {
   "cell_type": "code",
   "execution_count": null,
   "id": "b2ffa276",
   "metadata": {},
   "outputs": [],
   "source": []
  }
 ],
 "metadata": {
  "kernelspec": {
   "display_name": "Python 3 (ipykernel)",
   "language": "python",
   "name": "python3"
  },
  "language_info": {
   "codemirror_mode": {
    "name": "ipython",
    "version": 3
   },
   "file_extension": ".py",
   "mimetype": "text/x-python",
   "name": "python",
   "nbconvert_exporter": "python",
   "pygments_lexer": "ipython3",
   "version": "3.7.3"
  }
 },
 "nbformat": 4,
 "nbformat_minor": 5
}
